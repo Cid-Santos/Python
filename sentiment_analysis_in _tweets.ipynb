{
  "nbformat": 4,
  "nbformat_minor": 0,
  "metadata": {
    "colab": {
      "provenance": [],
      "authorship_tag": "ABX9TyN2+CgfQqZ9zJsFDxU8LulW",
      "include_colab_link": true
    },
    "kernelspec": {
      "name": "python3",
      "display_name": "Python 3"
    },
    "language_info": {
      "name": "python"
    }
  },
  "cells": [
    {
      "cell_type": "markdown",
      "metadata": {
        "id": "view-in-github",
        "colab_type": "text"
      },
      "source": [
        "<a href=\"https://colab.research.google.com/github/Cid-Santos/Python/blob/master/sentiment_analysis_in%20_tweets.ipynb\" target=\"_parent\"><img src=\"https://colab.research.google.com/assets/colab-badge.svg\" alt=\"Open In Colab\"/></a>"
      ]
    },
    {
      "cell_type": "code",
      "execution_count": 1,
      "metadata": {
        "colab": {
          "base_uri": "https://localhost:8080/"
        },
        "id": "5_QafX_mOohs",
        "outputId": "4d4138f1-8b69-4242-c2cd-daa043fcf01e"
      },
      "outputs": [
        {
          "output_type": "stream",
          "name": "stdout",
          "text": [
            "Collecting GetOldTweets3\n",
            "  Downloading GetOldTweets3-0.0.11-py3-none-any.whl (13 kB)\n",
            "Requirement already satisfied: lxml>=3.5.0 in /usr/local/lib/python3.10/dist-packages (from GetOldTweets3) (4.9.3)\n",
            "Collecting pyquery>=1.2.10 (from GetOldTweets3)\n",
            "  Downloading pyquery-2.0.0-py3-none-any.whl (22 kB)\n",
            "Collecting cssselect>=1.2.0 (from pyquery>=1.2.10->GetOldTweets3)\n",
            "  Downloading cssselect-1.2.0-py2.py3-none-any.whl (18 kB)\n",
            "Installing collected packages: cssselect, pyquery, GetOldTweets3\n",
            "Successfully installed GetOldTweets3-0.0.11 cssselect-1.2.0 pyquery-2.0.0\n"
          ]
        }
      ],
      "source": [
        "!pip install GetOldTweets3"
      ]
    },
    {
      "cell_type": "code",
      "source": [
        "import requests\n",
        "from requests_oauthlib import OAuth1\n",
        "#importando as classes da forma mais usual\n",
        "import matplotlib.pyplot as plt\n",
        "import numpy as np\n",
        "from textblob import TextBlob\n",
        "import GetOldTweets3 as got\n",
        "import re"
      ],
      "metadata": {
        "id": "MfFgCar_QvtG"
      },
      "execution_count": 2,
      "outputs": []
    },
    {
      "cell_type": "code",
      "source": [
        "q = 'game of thrones got -filter:retweets AND -filter:replies'\n",
        "\n",
        "url = 'https://api.Twitter.com/1.1/search/tweets.json' ### url para a Twitter API\n",
        "\n",
        "pms = {'q' : q, 'count' : 100, 'lang' : 'en', 'result_type': 'recent'} ### parâmetros de acordo com a Twitter API\n",
        "\n",
        "consumer_key = \"\"\n",
        "consumer_secret = \"\"\n",
        "access_token = \"\"\n",
        "access_token_secret = \"\"\n",
        "\n",
        "auth = OAuth1(consumer_key, consumer_secret, access_token, access_token_secret)\n",
        "\n",
        "res = requests.get(url, params = pms, auth=auth)\n",
        "\n",
        "tweets = res.json()"
      ],
      "metadata": {
        "id": "5WxhDB8aQ2we"
      },
      "execution_count": 5,
      "outputs": []
    },
    {
      "cell_type": "code",
      "source": [
        "tweets"
      ],
      "metadata": {
        "colab": {
          "base_uri": "https://localhost:8080/"
        },
        "id": "pIg9wtIEQ9yT",
        "outputId": "66942576-3bf1-424d-813d-36dcb613b590"
      },
      "execution_count": 6,
      "outputs": [
        {
          "output_type": "execute_result",
          "data": {
            "text/plain": [
              "{'errors': [{'code': 215, 'message': 'Bad Authentication data.'}]}"
            ]
          },
          "metadata": {},
          "execution_count": 6
        }
      ]
    }
  ]
}